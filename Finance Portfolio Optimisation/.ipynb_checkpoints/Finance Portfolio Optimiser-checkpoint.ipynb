{
 "cells": [
  {
   "cell_type": "code",
   "execution_count": 6,
   "metadata": {},
   "outputs": [],
   "source": [
    "#Tutorial from https://www.youtube.com/watch?v=9fjs8FeLMJk\n",
    "#This program optimise a users portfolio using the efficient frontier\n",
    "\n",
    "from pandas_datareader import data as web\n",
    "import pandas as pd\n",
    "import numpy as np\n",
    "from datetime import datetime\n",
    "import matplotlib.pyplot as plt\n",
    "plt.style.use('fivethirtyeight')"
   ]
  },
  {
   "cell_type": "code",
   "execution_count": 7,
   "metadata": {},
   "outputs": [],
   "source": [
    "##Random stock symbols to test\n",
    "#FAANG\n",
    "assets = ['FB', 'AMZN', 'AAPL', \"NFLX\",'GOOG']\n",
    "#assign weights to out stocks -> all the total weight needs to add up to 1\n",
    "weights = np.array([0.2,0.2,0.2,0.2,0.2]) #20% for each company"
   ]
  },
  {
   "cell_type": "code",
   "execution_count": 9,
   "metadata": {},
   "outputs": [
    {
     "data": {
      "text/plain": [
       "'2020-04-22'"
      ]
     },
     "execution_count": 9,
     "metadata": {},
     "output_type": "execute_result"
    }
   ],
   "source": [
    "#Get the stock/portfolio starting date\n",
    "stockStartDate = '2013-01-01'\n",
    "#Get the ending date that I want\n",
    "stocksEndDate = datetime.today().strftime('%Y-%m-%d')\n",
    "stocksEndDate"
   ]
  },
  {
   "cell_type": "code",
   "execution_count": 12,
   "metadata": {},
   "outputs": [],
   "source": [
    "df = pd.DataFrame()\n",
    "\n",
    "#Store the adjusted close price of the stock into df\n",
    "for stock in assets:\n",
    "    df[stock] = web.DataReader(stock, data_source='yahoo', start = stockStartDate, end = stocksEndDate)['Adj Close']"
   ]
  },
  {
   "cell_type": "code",
   "execution_count": 14,
   "metadata": {},
   "outputs": [
    {
     "data": {
      "text/html": [
       "<div>\n",
       "<style scoped>\n",
       "    .dataframe tbody tr th:only-of-type {\n",
       "        vertical-align: middle;\n",
       "    }\n",
       "\n",
       "    .dataframe tbody tr th {\n",
       "        vertical-align: top;\n",
       "    }\n",
       "\n",
       "    .dataframe thead th {\n",
       "        text-align: right;\n",
       "    }\n",
       "</style>\n",
       "<table border=\"1\" class=\"dataframe\">\n",
       "  <thead>\n",
       "    <tr style=\"text-align: right;\">\n",
       "      <th></th>\n",
       "      <th>FB</th>\n",
       "      <th>AMZN</th>\n",
       "      <th>AAPL</th>\n",
       "      <th>NFLX</th>\n",
       "      <th>GOOG</th>\n",
       "    </tr>\n",
       "    <tr>\n",
       "      <th>Date</th>\n",
       "      <th></th>\n",
       "      <th></th>\n",
       "      <th></th>\n",
       "      <th></th>\n",
       "      <th></th>\n",
       "    </tr>\n",
       "  </thead>\n",
       "  <tbody>\n",
       "    <tr>\n",
       "      <th>2012-12-31</th>\n",
       "      <td>26.620001</td>\n",
       "      <td>250.869995</td>\n",
       "      <td>66.578217</td>\n",
       "      <td>13.227143</td>\n",
       "      <td>352.369232</td>\n",
       "    </tr>\n",
       "    <tr>\n",
       "      <th>2013-01-02</th>\n",
       "      <td>28.000000</td>\n",
       "      <td>257.309998</td>\n",
       "      <td>68.687538</td>\n",
       "      <td>13.144286</td>\n",
       "      <td>360.274597</td>\n",
       "    </tr>\n",
       "    <tr>\n",
       "      <th>2013-01-03</th>\n",
       "      <td>27.770000</td>\n",
       "      <td>258.480011</td>\n",
       "      <td>67.820526</td>\n",
       "      <td>13.798572</td>\n",
       "      <td>360.483826</td>\n",
       "    </tr>\n",
       "    <tr>\n",
       "      <th>2013-01-04</th>\n",
       "      <td>28.760000</td>\n",
       "      <td>259.149994</td>\n",
       "      <td>65.931404</td>\n",
       "      <td>13.711429</td>\n",
       "      <td>367.607117</td>\n",
       "    </tr>\n",
       "    <tr>\n",
       "      <th>2013-01-07</th>\n",
       "      <td>29.420000</td>\n",
       "      <td>268.459991</td>\n",
       "      <td>65.543602</td>\n",
       "      <td>14.171429</td>\n",
       "      <td>366.003143</td>\n",
       "    </tr>\n",
       "    <tr>\n",
       "      <th>...</th>\n",
       "      <td>...</td>\n",
       "      <td>...</td>\n",
       "      <td>...</td>\n",
       "      <td>...</td>\n",
       "      <td>...</td>\n",
       "    </tr>\n",
       "    <tr>\n",
       "      <th>2020-04-15</th>\n",
       "      <td>176.970001</td>\n",
       "      <td>2307.679932</td>\n",
       "      <td>284.429993</td>\n",
       "      <td>426.750000</td>\n",
       "      <td>1262.469971</td>\n",
       "    </tr>\n",
       "    <tr>\n",
       "      <th>2020-04-16</th>\n",
       "      <td>176.250000</td>\n",
       "      <td>2408.189941</td>\n",
       "      <td>286.690002</td>\n",
       "      <td>439.170013</td>\n",
       "      <td>1263.469971</td>\n",
       "    </tr>\n",
       "    <tr>\n",
       "      <th>2020-04-17</th>\n",
       "      <td>179.240005</td>\n",
       "      <td>2375.000000</td>\n",
       "      <td>282.799988</td>\n",
       "      <td>422.959991</td>\n",
       "      <td>1283.250000</td>\n",
       "    </tr>\n",
       "    <tr>\n",
       "      <th>2020-04-20</th>\n",
       "      <td>178.240005</td>\n",
       "      <td>2393.610107</td>\n",
       "      <td>276.929993</td>\n",
       "      <td>437.489990</td>\n",
       "      <td>1266.609985</td>\n",
       "    </tr>\n",
       "    <tr>\n",
       "      <th>2020-04-21</th>\n",
       "      <td>170.800003</td>\n",
       "      <td>2328.120117</td>\n",
       "      <td>268.369995</td>\n",
       "      <td>433.829987</td>\n",
       "      <td>1216.339966</td>\n",
       "    </tr>\n",
       "  </tbody>\n",
       "</table>\n",
       "<p>1839 rows × 5 columns</p>\n",
       "</div>"
      ],
      "text/plain": [
       "                    FB         AMZN        AAPL        NFLX         GOOG\n",
       "Date                                                                    \n",
       "2012-12-31   26.620001   250.869995   66.578217   13.227143   352.369232\n",
       "2013-01-02   28.000000   257.309998   68.687538   13.144286   360.274597\n",
       "2013-01-03   27.770000   258.480011   67.820526   13.798572   360.483826\n",
       "2013-01-04   28.760000   259.149994   65.931404   13.711429   367.607117\n",
       "2013-01-07   29.420000   268.459991   65.543602   14.171429   366.003143\n",
       "...                ...          ...         ...         ...          ...\n",
       "2020-04-15  176.970001  2307.679932  284.429993  426.750000  1262.469971\n",
       "2020-04-16  176.250000  2408.189941  286.690002  439.170013  1263.469971\n",
       "2020-04-17  179.240005  2375.000000  282.799988  422.959991  1283.250000\n",
       "2020-04-20  178.240005  2393.610107  276.929993  437.489990  1266.609985\n",
       "2020-04-21  170.800003  2328.120117  268.369995  433.829987  1216.339966\n",
       "\n",
       "[1839 rows x 5 columns]"
      ]
     },
     "execution_count": 14,
     "metadata": {},
     "output_type": "execute_result"
    }
   ],
   "source": [
    "df"
   ]
  },
  {
   "cell_type": "code",
   "execution_count": 17,
   "metadata": {},
   "outputs": [
    {
     "data": {
      "image/png": "[encoded data removed]",
      "text/plain": [
       "<Figure size 432x288 with 1 Axes>"
      ]
     },
     "metadata": {},
     "output_type": "display_data"
    }
   ],
   "source": [
    "#Visually show the stock/portfolio\n",
    "title = 'Portfolio Adj. CLose Price History'\n",
    "\n",
    "#Get my stocks\n",
    "my_stocks = df\n",
    "\n",
    "#Create and plot the graph\n",
    "for stock in my_stocks.columns.values:\n",
    "    plt.plot(my_stocks[stock], label = stock)\n",
    "    \n",
    "plt.title(title)\n",
    "plt.xlabel('Date', fontsize = 18)\n",
    "plt.ylabel('Adj. Price in USD ($)', fontsize =18)\n",
    "plt.legend(my_stocks.columns.values, loc= 'upper left')\n",
    "plt.show()"
   ]
  },
  {
   "cell_type": "code",
   "execution_count": 19,
   "metadata": {},
   "outputs": [
    {
     "data": {
      "text/html": [
       "<div>\n",
       "<style scoped>\n",
       "    .dataframe tbody tr th:only-of-type {\n",
       "        vertical-align: middle;\n",
       "    }\n",
       "\n",
       "    .dataframe tbody tr th {\n",
       "        vertical-align: top;\n",
       "    }\n",
       "\n",
       "    .dataframe thead th {\n",
       "        text-align: right;\n",
       "    }\n",
       "</style>\n",
       "<table border=\"1\" class=\"dataframe\">\n",
       "  <thead>\n",
       "    <tr style=\"text-align: right;\">\n",
       "      <th></th>\n",
       "      <th>FB</th>\n",
       "      <th>AMZN</th>\n",
       "      <th>AAPL</th>\n",
       "      <th>NFLX</th>\n",
       "      <th>GOOG</th>\n",
       "    </tr>\n",
       "    <tr>\n",
       "      <th>Date</th>\n",
       "      <th></th>\n",
       "      <th></th>\n",
       "      <th></th>\n",
       "      <th></th>\n",
       "      <th></th>\n",
       "    </tr>\n",
       "  </thead>\n",
       "  <tbody>\n",
       "    <tr>\n",
       "      <th>2012-12-31</th>\n",
       "      <td>NaN</td>\n",
       "      <td>NaN</td>\n",
       "      <td>NaN</td>\n",
       "      <td>NaN</td>\n",
       "      <td>NaN</td>\n",
       "    </tr>\n",
       "    <tr>\n",
       "      <th>2013-01-02</th>\n",
       "      <td>0.051841</td>\n",
       "      <td>0.025671</td>\n",
       "      <td>0.031682</td>\n",
       "      <td>-0.006264</td>\n",
       "      <td>0.022435</td>\n",
       "    </tr>\n",
       "    <tr>\n",
       "      <th>2013-01-03</th>\n",
       "      <td>-0.008214</td>\n",
       "      <td>0.004547</td>\n",
       "      <td>-0.012623</td>\n",
       "      <td>0.049777</td>\n",
       "      <td>0.000581</td>\n",
       "    </tr>\n",
       "    <tr>\n",
       "      <th>2013-01-04</th>\n",
       "      <td>0.035650</td>\n",
       "      <td>0.002592</td>\n",
       "      <td>-0.027855</td>\n",
       "      <td>-0.006315</td>\n",
       "      <td>0.019760</td>\n",
       "    </tr>\n",
       "    <tr>\n",
       "      <th>2013-01-07</th>\n",
       "      <td>0.022949</td>\n",
       "      <td>0.035925</td>\n",
       "      <td>-0.005882</td>\n",
       "      <td>0.033549</td>\n",
       "      <td>-0.004363</td>\n",
       "    </tr>\n",
       "    <tr>\n",
       "      <th>...</th>\n",
       "      <td>...</td>\n",
       "      <td>...</td>\n",
       "      <td>...</td>\n",
       "      <td>...</td>\n",
       "      <td>...</td>\n",
       "    </tr>\n",
       "    <tr>\n",
       "      <th>2020-04-15</th>\n",
       "      <td>-0.006735</td>\n",
       "      <td>0.010669</td>\n",
       "      <td>-0.009127</td>\n",
       "      <td>0.031919</td>\n",
       "      <td>-0.005326</td>\n",
       "    </tr>\n",
       "    <tr>\n",
       "      <th>2020-04-16</th>\n",
       "      <td>-0.004068</td>\n",
       "      <td>0.043555</td>\n",
       "      <td>0.007946</td>\n",
       "      <td>0.029104</td>\n",
       "      <td>0.000792</td>\n",
       "    </tr>\n",
       "    <tr>\n",
       "      <th>2020-04-17</th>\n",
       "      <td>0.016965</td>\n",
       "      <td>-0.013782</td>\n",
       "      <td>-0.013569</td>\n",
       "      <td>-0.036911</td>\n",
       "      <td>0.015655</td>\n",
       "    </tr>\n",
       "    <tr>\n",
       "      <th>2020-04-20</th>\n",
       "      <td>-0.005579</td>\n",
       "      <td>0.007836</td>\n",
       "      <td>-0.020757</td>\n",
       "      <td>0.034353</td>\n",
       "      <td>-0.012967</td>\n",
       "    </tr>\n",
       "    <tr>\n",
       "      <th>2020-04-21</th>\n",
       "      <td>-0.041741</td>\n",
       "      <td>-0.027360</td>\n",
       "      <td>-0.030910</td>\n",
       "      <td>-0.008366</td>\n",
       "      <td>-0.039689</td>\n",
       "    </tr>\n",
       "  </tbody>\n",
       "</table>\n",
       "<p>1839 rows × 5 columns</p>\n",
       "</div>"
      ],
      "text/plain": [
       "                  FB      AMZN      AAPL      NFLX      GOOG\n",
       "Date                                                        \n",
       "2012-12-31       NaN       NaN       NaN       NaN       NaN\n",
       "2013-01-02  0.051841  0.025671  0.031682 -0.006264  0.022435\n",
       "2013-01-03 -0.008214  0.004547 -0.012623  0.049777  0.000581\n",
       "2013-01-04  0.035650  0.002592 -0.027855 -0.006315  0.019760\n",
       "2013-01-07  0.022949  0.035925 -0.005882  0.033549 -0.004363\n",
       "...              ...       ...       ...       ...       ...\n",
       "2020-04-15 -0.006735  0.010669 -0.009127  0.031919 -0.005326\n",
       "2020-04-16 -0.004068  0.043555  0.007946  0.029104  0.000792\n",
       "2020-04-17  0.016965 -0.013782 -0.013569 -0.036911  0.015655\n",
       "2020-04-20 -0.005579  0.007836 -0.020757  0.034353 -0.012967\n",
       "2020-04-21 -0.041741 -0.027360 -0.030910 -0.008366 -0.039689\n",
       "\n",
       "[1839 rows x 5 columns]"
      ]
     },
     "execution_count": 19,
     "metadata": {},
     "output_type": "execute_result"
    }
   ],
   "source": [
    "#Show the daily simple return\n",
    "returns = df.pct_change()\n",
    "returns"
   ]
  },
  {
   "cell_type": "code",
   "execution_count": 21,
   "metadata": {},
   "outputs": [
    {
     "data": {
      "text/html": [
       "<div>\n",
       "<style scoped>\n",
       "    .dataframe tbody tr th:only-of-type {\n",
       "        vertical-align: middle;\n",
       "    }\n",
       "\n",
       "    .dataframe tbody tr th {\n",
       "        vertical-align: top;\n",
       "    }\n",
       "\n",
       "    .dataframe thead th {\n",
       "        text-align: right;\n",
       "    }\n",
       "</style>\n",
       "<table border=\"1\" class=\"dataframe\">\n",
       "  <thead>\n",
       "    <tr style=\"text-align: right;\">\n",
       "      <th></th>\n",
       "      <th>FB</th>\n",
       "      <th>AMZN</th>\n",
       "      <th>AAPL</th>\n",
       "      <th>NFLX</th>\n",
       "      <th>GOOG</th>\n",
       "    </tr>\n",
       "  </thead>\n",
       "  <tbody>\n",
       "    <tr>\n",
       "      <th>FB</th>\n",
       "      <td>0.051267</td>\n",
       "      <td>0.022858</td>\n",
       "      <td>0.017824</td>\n",
       "      <td>0.024085</td>\n",
       "      <td>0.021143</td>\n",
       "    </tr>\n",
       "    <tr>\n",
       "      <th>AMZN</th>\n",
       "      <td>0.022858</td>\n",
       "      <td>0.040645</td>\n",
       "      <td>0.015693</td>\n",
       "      <td>0.027137</td>\n",
       "      <td>0.020530</td>\n",
       "    </tr>\n",
       "    <tr>\n",
       "      <th>AAPL</th>\n",
       "      <td>0.017824</td>\n",
       "      <td>0.015693</td>\n",
       "      <td>0.034063</td>\n",
       "      <td>0.014147</td>\n",
       "      <td>0.016357</td>\n",
       "    </tr>\n",
       "    <tr>\n",
       "      <th>NFLX</th>\n",
       "      <td>0.024085</td>\n",
       "      <td>0.027137</td>\n",
       "      <td>0.014147</td>\n",
       "      <td>0.095522</td>\n",
       "      <td>0.021723</td>\n",
       "    </tr>\n",
       "    <tr>\n",
       "      <th>GOOG</th>\n",
       "      <td>0.021143</td>\n",
       "      <td>0.020530</td>\n",
       "      <td>0.016357</td>\n",
       "      <td>0.021723</td>\n",
       "      <td>0.028407</td>\n",
       "    </tr>\n",
       "  </tbody>\n",
       "</table>\n",
       "</div>"
      ],
      "text/plain": [
       "            FB      AMZN      AAPL      NFLX      GOOG\n",
       "FB    0.051267  0.022858  0.017824  0.024085  0.021143\n",
       "AMZN  0.022858  0.040645  0.015693  0.027137  0.020530\n",
       "AAPL  0.017824  0.015693  0.034063  0.014147  0.016357\n",
       "NFLX  0.024085  0.027137  0.014147  0.095522  0.021723\n",
       "GOOG  0.021143  0.020530  0.016357  0.021723  0.028407"
      ]
     },
     "execution_count": 21,
     "metadata": {},
     "output_type": "execute_result"
    }
   ],
   "source": [
    "#Create and show the annualized covariance matrix\n",
    "cov_matrix_annual = returns.cov()*112\n",
    "cov_matrix_annual"
   ]
  },
  {
   "cell_type": "code",
   "execution_count": 22,
   "metadata": {},
   "outputs": [
    {
     "data": {
      "text/plain": [
       "0.026115919525636827"
      ]
     },
     "execution_count": 22,
     "metadata": {},
     "output_type": "execute_result"
    }
   ],
   "source": [
    "#Calculate the portfolio variance\n",
    "port_variance = np.dot(weights.T, np.dot(cov_matrix_annual,weights))\n",
    "port_variance"
   ]
  },
  {
   "cell_type": "code",
   "execution_count": 24,
   "metadata": {},
   "outputs": [
    {
     "data": {
      "text/plain": [
       "0.1616042063983386"
      ]
     },
     "execution_count": 24,
     "metadata": {},
     "output_type": "execute_result"
    }
   ],
   "source": [
    "# Calculate the portfolio volatility aka standard deviation\n",
    "port_volatility = np.sqrt(port_variance)\n",
    "port_volatility"
   ]
  },
  {
   "cell_type": "code",
   "execution_count": 27,
   "metadata": {},
   "outputs": [
    {
     "data": {
      "text/plain": [
       "0.14904537464619178"
      ]
     },
     "execution_count": 27,
     "metadata": {},
     "output_type": "execute_result"
    }
   ],
   "source": [
    "#Calculate the annual portfolio return\n",
    "portfolioSimpleAnnualReturn = np.sum(returns.mean( ) * weights) * 112\n",
    "portfolioSimpleAnnualReturn"
   ]
  },
  {
   "cell_type": "code",
   "execution_count": 30,
   "metadata": {},
   "outputs": [
    {
     "name": "stdout",
     "output_type": "stream",
     "text": [
      "Expected annual return: 15.0%\n",
      "Annual volality / risk: 16.0%\n",
      "Annual Variance: 3.0%\n"
     ]
    }
   ],
   "source": [
    "#Show the expected annual return, volatility (risk), and variance\n",
    "percent_var = str(round(port_variance,2)*100) + '%'\n",
    "percent_vol = str(round(port_volatility,2)*100)+'%'\n",
    "percent_ret = str(round(portfolioSimpleAnnualReturn, 2)* 100) +'%'\n",
    "\n",
    "print('Expected annual return: ' + percent_ret)\n",
    "print('Annual volality / risk: ' +percent_vol)\n",
    "print('Annual Variance: ' + percent_var)"
   ]
  },
  {
   "cell_type": "code",
   "execution_count": null,
   "metadata": {},
   "outputs": [],
   "source": [
    "pip install PyPortfolioOpt"
   ]
  }
 ],
 "metadata": {
  "kernelspec": {
   "display_name": "Python 3",
   "language": "python",
   "name": "python3"
  },
  "language_info": {
   "codemirror_mode": {
    "name": "ipython",
    "version": 3
   },
   "file_extension": ".py",
   "mimetype": "text/x-python",
   "name": "python",
   "nbconvert_exporter": "python",
   "pygments_lexer": "ipython3",
   "version": "3.7.6"
  }
 },
 "nbformat": 4,
 "nbformat_minor": 4
}
